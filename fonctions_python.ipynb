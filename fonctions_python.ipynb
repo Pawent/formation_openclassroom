{
  "cells": [
    {
      "cell_type": "markdown",
      "metadata": {
        "id": "view-in-github",
        "colab_type": "text"
      },
      "source": [
        "<a href=\"https://colab.research.google.com/github/Pawent/formation_openclassroom/blob/main/fonctions_python.ipynb\" target=\"_parent\"><img src=\"https://colab.research.google.com/assets/colab-badge.svg\" alt=\"Open In Colab\"/></a>"
      ]
    },
    {
      "cell_type": "markdown",
      "id": "6Erg4oD33s48",
      "metadata": {
        "id": "6Erg4oD33s48"
      },
      "source": [
        "#Utilisation de while et for"
      ]
    },
    {
      "cell_type": "code",
      "execution_count": null,
      "id": "b2bd8da3-b367-47a1-849d-0d9df016ecc4",
      "metadata": {
        "id": "b2bd8da3-b367-47a1-849d-0d9df016ecc4"
      },
      "outputs": [],
      "source": [
        "a = int(input(\"veuillez entrer un nombre:\"))\n",
        "a = 0\n",
        "while a<=9:\n",
        "    print(a)\n",
        "    a+=1"
      ]
    },
    {
      "cell_type": "code",
      "execution_count": null,
      "id": "d17ef23f-a1a9-4067-a879-9d4c01dcdbc4",
      "metadata": {
        "id": "d17ef23f-a1a9-4067-a879-9d4c01dcdbc4"
      },
      "outputs": [],
      "source": [
        "for a in range(1,10):\n",
        "    print(a)"
      ]
    },
    {
      "cell_type": "code",
      "execution_count": null,
      "id": "17b564a0-9fe6-4bec-a19a-c7941f853ac4",
      "metadata": {
        "id": "17b564a0-9fe6-4bec-a19a-c7941f853ac4"
      },
      "outputs": [],
      "source": [
        "a=0\n",
        "while a<=9:\n",
        "    print(a)\n",
        "    a+=1"
      ]
    },
    {
      "cell_type": "code",
      "execution_count": null,
      "id": "659bd0a5-2efb-4229-bae0-5ceeecf71989",
      "metadata": {
        "id": "659bd0a5-2efb-4229-bae0-5ceeecf71989"
      },
      "outputs": [],
      "source": [
        "for a in range(1,10,2):\n",
        "    print(a)\n"
      ]
    },
    {
      "cell_type": "code",
      "execution_count": null,
      "id": "c7e73ba7-2934-445e-bace-1ec964b5b0aa",
      "metadata": {
        "id": "c7e73ba7-2934-445e-bace-1ec964b5b0aa"
      },
      "outputs": [],
      "source": [
        "for a in range(5,1,-1):\n",
        "    print(a)"
      ]
    },
    {
      "cell_type": "code",
      "execution_count": null,
      "id": "954541f7-b373-4a28-857d-6f9814d2ab49",
      "metadata": {
        "id": "954541f7-b373-4a28-857d-6f9814d2ab49"
      },
      "outputs": [],
      "source": [
        "for a in range(5,1,-3):\n",
        "    print(a)"
      ]
    },
    {
      "cell_type": "code",
      "execution_count": null,
      "id": "28a459d5-5ce9-46f9-802c-a06a82ca651a",
      "metadata": {
        "id": "28a459d5-5ce9-46f9-802c-a06a82ca651a"
      },
      "outputs": [],
      "source": [
        "\n",
        "for a in range(False):\n",
        "\n",
        "    print(a)"
      ]
    },
    {
      "cell_type": "code",
      "execution_count": null,
      "id": "a8a4b9b0-45bd-4dff-88ee-c14dbd68c1bb",
      "metadata": {
        "id": "a8a4b9b0-45bd-4dff-88ee-c14dbd68c1bb"
      },
      "outputs": [],
      "source": [
        "\n",
        "for a in range(True):\n",
        "\n",
        "    print(a)"
      ]
    },
    {
      "cell_type": "code",
      "execution_count": null,
      "id": "4fcc771e-555d-4bcd-962b-985f7b1d5c9a",
      "metadata": {
        "id": "4fcc771e-555d-4bcd-962b-985f7b1d5c9a"
      },
      "outputs": [],
      "source": [
        "for a in range(2,11):\n",
        "    for b in range(2,11):\n",
        "        print(a, \"x\", b, \"=\", a*b)"
      ]
    },
    {
      "cell_type": "code",
      "execution_count": null,
      "id": "37335fbe-7765-4bac-93d1-c7168d6fdc01",
      "metadata": {
        "id": "37335fbe-7765-4bac-93d1-c7168d6fdc01"
      },
      "outputs": [],
      "source": [
        "for i in range(5):\n",
        "    if i==3:\n",
        "        print(\"sortie \", i)\n",
        "        break\n",
        "    print(\"iteration\", i)"
      ]
    },
    {
      "cell_type": "code",
      "execution_count": null,
      "id": "407f9b09-4d1c-4f19-af8f-33b5d66210d1",
      "metadata": {
        "id": "407f9b09-4d1c-4f19-af8f-33b5d66210d1"
      },
      "outputs": [],
      "source": [
        "for j in range(5):\n",
        "    if j==2:\n",
        "        print(\"passe\", j)\n",
        "        continue\n",
        "    print(\"iteration\", j)"
      ]
    },
    {
      "cell_type": "code",
      "execution_count": null,
      "id": "dfda19f2-da5e-41c1-95fe-d7d1bbf03371",
      "metadata": {
        "id": "dfda19f2-da5e-41c1-95fe-d7d1bbf03371"
      },
      "outputs": [],
      "source": [
        "print(\"première ligne\", end=\" \")\n",
        "print(\"seconde ligne\")"
      ]
    },
    {
      "cell_type": "markdown",
      "id": "ZJdSLXRp4mo2",
      "metadata": {
        "id": "ZJdSLXRp4mo2"
      },
      "source": [
        "#Concaténation et utilisation de quelques fonctions\n",
        "\n"
      ]
    },
    {
      "cell_type": "code",
      "execution_count": null,
      "id": "3ec752d3-ea77-4270-a48b-4df8115132cd",
      "metadata": {
        "id": "3ec752d3-ea77-4270-a48b-4df8115132cd"
      },
      "outputs": [],
      "source": [
        "#Concaténation\n",
        "\n",
        "Uni = \"Université catholique de Lille\"\n",
        "print(Uni + \" est sympa\")"
      ]
    },
    {
      "cell_type": "code",
      "execution_count": null,
      "id": "ce1234fd-a068-4a8d-99a9-8e4fcda7255d",
      "metadata": {
        "id": "ce1234fd-a068-4a8d-99a9-8e4fcda7255d"
      },
      "outputs": [],
      "source": [
        "#lower() rend en miniscule\n",
        "\n",
        "Uni = \"Université catholique de Lille\"\n",
        "print(Uni.lower() + \" est sympa\")"
      ]
    },
    {
      "cell_type": "code",
      "execution_count": null,
      "id": "8f1b4fa2-3278-4440-bed5-11d045aef850",
      "metadata": {
        "id": "8f1b4fa2-3278-4440-bed5-11d045aef850"
      },
      "outputs": [],
      "source": [
        "#upper() en majuscule\n",
        "Uni = \"Université catholique de lille\"\n",
        "print(Uni.upper() + \" est sympa\")"
      ]
    },
    {
      "cell_type": "code",
      "execution_count": null,
      "id": "eb46005b-1da3-4860-8664-5f0cc307db3d",
      "metadata": {
        "id": "eb46005b-1da3-4860-8664-5f0cc307db3d"
      },
      "outputs": [],
      "source": [
        "#isupper() ou islower()\n",
        "\n",
        "Uni =  \"Université catholique de Lille\"\n",
        "print(Uni.isupper())"
      ]
    },
    {
      "cell_type": "code",
      "execution_count": null,
      "id": "888be48f-2790-4ed0-8051-7b667a61fa83",
      "metadata": {
        "id": "888be48f-2790-4ed0-8051-7b667a61fa83"
      },
      "outputs": [],
      "source": [
        "print(Uni.upper().isupper())\n"
      ]
    },
    {
      "cell_type": "code",
      "execution_count": null,
      "id": "2725dafc-1dd0-44ac-a98c-8e773bcad176",
      "metadata": {
        "id": "2725dafc-1dd0-44ac-a98c-8e773bcad176"
      },
      "outputs": [],
      "source": [
        "print(Uni[1])"
      ]
    },
    {
      "cell_type": "code",
      "execution_count": null,
      "id": "6e20924c-2073-42fe-a145-91a20cbca757",
      "metadata": {
        "id": "6e20924c-2073-42fe-a145-91a20cbca757"
      },
      "outputs": [],
      "source": [
        "print(Uni[0])"
      ]
    },
    {
      "cell_type": "code",
      "execution_count": null,
      "id": "10739405-ffc9-4501-a7d2-183e43d17567",
      "metadata": {
        "id": "10739405-ffc9-4501-a7d2-183e43d17567"
      },
      "outputs": [],
      "source": [
        "print(Uni.index(\"i\"))"
      ]
    },
    {
      "cell_type": "code",
      "execution_count": null,
      "id": "45f4cc0f-92ed-4807-b7d4-8801b499ab79",
      "metadata": {
        "id": "45f4cc0f-92ed-4807-b7d4-8801b499ab79"
      },
      "outputs": [],
      "source": [
        "print(Uni.replace(\"Université\", \"Institue\"))"
      ]
    },
    {
      "cell_type": "code",
      "execution_count": null,
      "id": "8bd70242-a80e-40e3-8cfa-933b14e75f97",
      "metadata": {
        "id": "8bd70242-a80e-40e3-8cfa-933b14e75f97"
      },
      "outputs": [],
      "source": [
        "print(Uni.replace(\"l\", \"a\"))"
      ]
    },
    {
      "cell_type": "raw",
      "id": "b22ce2ce-6d5e-406a-b9a3-47319030e876",
      "metadata": {
        "id": "b22ce2ce-6d5e-406a-b9a3-47319030e876"
      },
      "source": [
        "print(9%4)"
      ]
    },
    {
      "cell_type": "code",
      "execution_count": null,
      "id": "60ecaa0a-f08f-4d51-986c-5de378a5b0c2",
      "metadata": {
        "id": "60ecaa0a-f08f-4d51-986c-5de378a5b0c2"
      },
      "outputs": [],
      "source": [
        "print(3+2.2)"
      ]
    },
    {
      "cell_type": "code",
      "execution_count": null,
      "id": "ae897083-362d-426a-8db6-bc30cb9a1459",
      "metadata": {
        "id": "ae897083-362d-426a-8db6-bc30cb9a1459"
      },
      "outputs": [],
      "source": [
        "print(9%4)"
      ]
    },
    {
      "cell_type": "code",
      "execution_count": null,
      "id": "44f9794c-595c-4100-85dd-1a6c9168c042",
      "metadata": {
        "id": "44f9794c-595c-4100-85dd-1a6c9168c042"
      },
      "outputs": [],
      "source": [
        "num = 2\n",
        "print(str(num) + \" est mon nombre préféré\")"
      ]
    },
    {
      "cell_type": "code",
      "execution_count": null,
      "id": "2102bc68-fc63-46c4-882f-6b170f66b318",
      "metadata": {
        "id": "2102bc68-fc63-46c4-882f-6b170f66b318"
      },
      "outputs": [],
      "source": [
        "num = -9\n",
        "print(abs(num))"
      ]
    },
    {
      "cell_type": "code",
      "execution_count": null,
      "id": "af2226ee-05c6-438b-81a5-03dab0424c29",
      "metadata": {
        "id": "af2226ee-05c6-438b-81a5-03dab0424c29"
      },
      "outputs": [],
      "source": [
        "nb1 = float(input(\"entre:\"))\n",
        "op = input(\"entrer:\")\n",
        "nb2 : float(int(\"entrer\"))\n",
        "\n",
        "if op == \"+\":\n",
        "    print(\"est égal\", format(nb1+nb2, \".2f\"))\n",
        "\n"
      ]
    },
    {
      "cell_type": "code",
      "execution_count": null,
      "id": "b1ae3801-da62-4b9f-b7c2-b7e0928ede0a",
      "metadata": {
        "id": "b1ae3801-da62-4b9f-b7c2-b7e0928ede0a"
      },
      "outputs": [],
      "source": [
        "print(round(2.6))"
      ]
    },
    {
      "cell_type": "code",
      "execution_count": null,
      "id": "c36964ba-c2ca-4441-89bc-f81190df0b9c",
      "metadata": {
        "id": "c36964ba-c2ca-4441-89bc-f81190df0b9c"
      },
      "outputs": [],
      "source": [
        "print(round(2.2))"
      ]
    },
    {
      "cell_type": "code",
      "execution_count": null,
      "id": "f1887a85-0fd4-4d5a-9c92-12ad77978485",
      "metadata": {
        "id": "f1887a85-0fd4-4d5a-9c92-12ad77978485"
      },
      "outputs": [],
      "source": [
        "from math import *\n",
        "print(ceil(2.3))"
      ]
    },
    {
      "cell_type": "code",
      "execution_count": null,
      "id": "f4690bb0-1dc1-4ba1-8a30-8222ee0f47b6",
      "metadata": {
        "id": "f4690bb0-1dc1-4ba1-8a30-8222ee0f47b6"
      },
      "outputs": [],
      "source": []
    },
    {
      "cell_type": "markdown",
      "id": "MpjO52K_5Pye",
      "metadata": {
        "id": "MpjO52K_5Pye"
      },
      "source": [
        "# nombre pair et impair"
      ]
    },
    {
      "cell_type": "code",
      "execution_count": null,
      "id": "4f35c8e8-e3a1-4c03-be84-eb1993f88b1d",
      "metadata": {
        "id": "4f35c8e8-e3a1-4c03-be84-eb1993f88b1d"
      },
      "outputs": [],
      "source": [
        "nombre = eval(input(\"veuillez entrer un nombre:\"))\n",
        "if nombre%2==0:\n",
        "\n",
        "    print(\"ce nombre est pair\")\n",
        "\n",
        "elif nombre%2==1:\n",
        "\n",
        "    print(\"ce nombre est impaire\")\n",
        "\n",
        "demander_nombre = float\n"
      ]
    },
    {
      "cell_type": "code",
      "execution_count": null,
      "id": "df54633d-472f-446f-8b4d-bbf0b1dc8415",
      "metadata": {
        "id": "df54633d-472f-446f-8b4d-bbf0b1dc8415"
      },
      "outputs": [],
      "source": [
        "nombre = eval(input(\"veuillez entrer un nombre:\"))\n",
        "while nombre != \"q\":\n",
        "  if nombre%2==0:\n",
        "     print(\"ce nombre est pair\")\n",
        "  else:\n",
        "     print(\"ce nombre est impaire\")\n",
        "\n",
        "  nombre = input(\"entrer un nombre : (appuyer sur q pour quitter) \")\n",
        "print(\"Au revoir\")"
      ]
    },
    {
      "cell_type": "code",
      "execution_count": null,
      "id": "40866f0a-8fb1-4ed8-bc12-aca925866c2b",
      "metadata": {
        "id": "40866f0a-8fb1-4ed8-bc12-aca925866c2b"
      },
      "outputs": [],
      "source": [
        "nombre = eval(input(\"veuillez entrer un nombre:\"))\n",
        "while nombre != \"4\":\n",
        "  if nombre%2==0:\n",
        "     print(\"ce nombre est pair\")\n",
        "  else:\n",
        "     print(\"ce nombre est impaire\")\n",
        "\n",
        "  nombre = input(\"entrer un nombre : (appuyer sur q pour quitter) \")\n",
        "print(\"Au revoir\")"
      ]
    },
    {
      "cell_type": "code",
      "execution_count": null,
      "id": "d85441ab-e673-40ce-8f15-3149b9ae3e94",
      "metadata": {
        "id": "d85441ab-e673-40ce-8f15-3149b9ae3e94"
      },
      "outputs": [],
      "source": []
    },
    {
      "cell_type": "code",
      "execution_count": null,
      "id": "bf1f460f-95a2-479c-b593-5d78fb3615ef",
      "metadata": {
        "id": "bf1f460f-95a2-479c-b593-5d78fb3615ef"
      },
      "outputs": [],
      "source": [
        "nombre = input(\"veuillez entrer un nombre:\")\n",
        "while nombre != \"q\":\n",
        "  if eval(nombre)%2==0:\n",
        "     print(\"ce nombre est pair\")\n",
        "  else:\n",
        "     print(\"ce nombre est impaire\")\n",
        "\n",
        "  nombre = input(\"entrer un nombre : (appuyer sur q pour quitter) \")\n",
        "print(\"Au revoir\")"
      ]
    },
    {
      "cell_type": "code",
      "execution_count": null,
      "id": "0263526a-21cd-44a6-b719-685b1d2618b3",
      "metadata": {
        "id": "0263526a-21cd-44a6-b719-685b1d2618b3"
      },
      "outputs": [],
      "source": [
        "if nombre%2==0:\n",
        "\n",
        "    print(\"ce nombre est pair\")\n",
        "\n",
        "    elif nombre%2==1:\n",
        "\n",
        "    print(\"ce nombre est impaire\")\n"
      ]
    },
    {
      "cell_type": "code",
      "execution_count": null,
      "id": "6dc40c02-d287-40d5-9b99-b855d9b4beeb",
      "metadata": {
        "id": "6dc40c02-d287-40d5-9b99-b855d9b4beeb"
      },
      "outputs": [],
      "source": [
        "nombre = int(input(\"veuillez entrer un nombre:\"))\n",
        "convertir = str(nombre)\n",
        "longueur  = len(convertir)\n",
        "print(longueur)"
      ]
    },
    {
      "cell_type": "code",
      "execution_count": null,
      "id": "6f2ca9a9-358c-42be-8105-477fbba28138",
      "metadata": {
        "id": "6f2ca9a9-358c-42be-8105-477fbba28138"
      },
      "outputs": [],
      "source": [
        "compte = 0\n",
        "nombre = int(input(\"entrer:\"))\n",
        "while nombre>0:\n",
        "    nombre = nombre // 10\n",
        "    compte = compte + 1\n",
        "\n",
        "print(\"Le nombre total :\", compte)"
      ]
    },
    {
      "cell_type": "code",
      "execution_count": null,
      "id": "93f30776-4dac-4a82-8fb2-744a13cce51d",
      "metadata": {
        "id": "93f30776-4dac-4a82-8fb2-744a13cce51d"
      },
      "outputs": [],
      "source": []
    },
    {
      "cell_type": "code",
      "execution_count": null,
      "id": "4dabbd16-ed79-44c0-8f91-36c419304875",
      "metadata": {
        "id": "4dabbd16-ed79-44c0-8f91-36c419304875"
      },
      "outputs": [],
      "source": [
        "nombre = int(input(\"veuillez entrer un nombre:\"))"
      ]
    },
    {
      "cell_type": "code",
      "execution_count": null,
      "id": "ab9b5aab-6174-4fda-a84f-8da152b69140",
      "metadata": {
        "id": "ab9b5aab-6174-4fda-a84f-8da152b69140"
      },
      "outputs": [],
      "source": [
        "n = int(input(\"veuillez entrer un nombre:\"))\n",
        "m = int(input(\"veuillez entrer un autre nombre:\"))\n",
        "\n",
        "if n<m:\n",
        "    min=n\n",
        "    max=m\n",
        "else:\n",
        "    min=m\n",
        "    max=n\n",
        "i=min\n",
        "while i<=max:\n",
        "    print(i)\n",
        "    i=i+2"
      ]
    },
    {
      "cell_type": "code",
      "execution_count": null,
      "id": "9d56db01-b71c-4787-b375-10015fcfdd3e",
      "metadata": {
        "id": "9d56db01-b71c-4787-b375-10015fcfdd3e"
      },
      "outputs": [],
      "source": [
        "nombre = eval(input(\"veuillez entrer un nombre:\"))\n",
        "\n",
        "while nombre != \"4\":\n",
        "  if nombre%2==0:\n",
        "\n",
        "    print(\"ce nombre est pair\")\n",
        "\n",
        "  elif nombre%2==1:\n",
        "\n",
        "     print(\"ce nombre est impaire\")"
      ]
    },
    {
      "cell_type": "markdown",
      "id": "b_YaC-o16Ljq",
      "metadata": {
        "id": "b_YaC-o16Ljq"
      },
      "source": [
        "# Analyse data"
      ]
    }
  ],
  "metadata": {
    "colab": {
      "provenance": [],
      "include_colab_link": true
    },
    "kernelspec": {
      "display_name": "Python 3 (ipykernel)",
      "language": "python",
      "name": "python3"
    },
    "language_info": {
      "codemirror_mode": {
        "name": "ipython",
        "version": 3
      },
      "file_extension": ".py",
      "mimetype": "text/x-python",
      "name": "python",
      "nbconvert_exporter": "python",
      "pygments_lexer": "ipython3",
      "version": "3.12.4"
    }
  },
  "nbformat": 4,
  "nbformat_minor": 5
}